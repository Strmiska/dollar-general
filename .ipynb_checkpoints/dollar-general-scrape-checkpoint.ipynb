{
 "cells": [
  {
   "cell_type": "markdown",
   "metadata": {},
   "source": [
    "## department | product name | original and current prices | SKU"
   ]
  },
  {
   "cell_type": "code",
   "execution_count": 1,
   "metadata": {
    "collapsed": true
   },
   "outputs": [],
   "source": [
    "from selenium import webdriver\n",
    "\n",
    "import re\n",
    "import requests\n",
    "from bs4 import BeautifulSoup\n",
    "import pandas as pd"
   ]
  },
  {
   "cell_type": "code",
   "execution_count": 2,
   "metadata": {
    "collapsed": true
   },
   "outputs": [],
   "source": [
    "PHANTOMJS_PATH = './phantomjs'"
   ]
  },
  {
   "cell_type": "code",
   "execution_count": 3,
   "metadata": {
    "collapsed": true
   },
   "outputs": [],
   "source": [
    "browser = webdriver.PhantomJS(PHANTOMJS_PATH)\n",
    "browser.get('https://www.dollargeneral.com/')"
   ]
  },
  {
   "cell_type": "code",
   "execution_count": 4,
   "metadata": {
    "collapsed": true
   },
   "outputs": [],
   "source": [
    "soup = BeautifulSoup(browser.page_source, \"html.parser\")"
   ]
  },
  {
   "cell_type": "code",
   "execution_count": 5,
   "metadata": {
    "collapsed": true
   },
   "outputs": [],
   "source": [
    "#print(stuff.prettify())"
   ]
  },
  {
   "cell_type": "code",
   "execution_count": 6,
   "metadata": {
    "collapsed": true
   },
   "outputs": [],
   "source": [
    "categories = []\n",
    "category_urls = []\n",
    "\n",
    "for row in soup.find('ul', {\"id\": \"department\"}).find_all('li'):\n",
    "    categories.append(row.find('a').text)\n",
    "    category_urls.append(re.search('href=\"(\\S+.html)', str(row)).group(1))"
   ]
  },
  {
   "cell_type": "code",
   "execution_count": 7,
   "metadata": {
    "scrolled": false
   },
   "outputs": [
    {
     "name": "stdout",
     "output_type": "stream",
     "text": [
      "On Sale\n",
      "Seasonal\n",
      "Holidays\n",
      "Cleaning\n",
      "Health\n",
      "Personal Care\n",
      "Beauty\n",
      "Food & Beverage\n",
      "Household\n",
      "Pet\n",
      "Baby\n",
      "Apparel\n",
      "Toys\n",
      "Office & School\n",
      "Auto & Hardware\n",
      "Party & Occasions\n",
      "DG Brands\n",
      "https://www.dollargeneral.com/on-sale.html\n",
      "https://www.dollargeneral.com/seasonal.html\n",
      "https://www.dollargeneral.com/holidays.html\n",
      "https://www.dollargeneral.com/cleaning.html\n",
      "https://www.dollargeneral.com/health.html\n",
      "https://www.dollargeneral.com/personal-care.html\n",
      "https://www.dollargeneral.com/beauty.html\n",
      "https://www.dollargeneral.com/food.html\n",
      "https://www.dollargeneral.com/household.html\n",
      "https://www.dollargeneral.com/pet.html\n",
      "https://www.dollargeneral.com/baby.html\n",
      "https://www.dollargeneral.com/apparel.html\n",
      "https://www.dollargeneral.com/toys.html\n",
      "https://www.dollargeneral.com/office-school.html\n",
      "https://www.dollargeneral.com/auto-hardware.html\n",
      "https://www.dollargeneral.com/party-occasions.html\n",
      "https://www.dollargeneral.com/private-brand.html\n"
     ]
    }
   ],
   "source": [
    "for i in categories:\n",
    "    print i\n",
    "for i in category_urls:\n",
    "    print i"
   ]
  },
  {
   "cell_type": "code",
   "execution_count": 8,
   "metadata": {
    "collapsed": true
   },
   "outputs": [],
   "source": [
    "browser = webdriver.PhantomJS(PHANTOMJS_PATH)\n",
    "browser.get('https://www.dollargeneral.com/health.html')\n",
    "soup = BeautifulSoup(browser.page_source, \"html.parser\")"
   ]
  },
  {
   "cell_type": "code",
   "execution_count": 27,
   "metadata": {
    "collapsed": true
   },
   "outputs": [],
   "source": [
    "sub_categories = []\n",
    "unique_categories = []\n",
    "\n",
    "for row in soup.find_all('ul', {\"class\": \"category column1\"}):\n",
    "    if row.find('li', {\"class\":\"sub-categories\"}) != None:\n",
    "        for item in row.find_all('li', {\"class\":\"sub-categories\"}):\n",
    "            unique_categories.append(re.search('href=\"(\\S+.html)', str(item.find_all('a'))).group(1))\n",
    "    else:\n",
    "        sub_categories.append(re.search('href=\"(\\S+.html)', str(row)).group(1))"
   ]
  },
  {
   "cell_type": "code",
   "execution_count": 29,
   "metadata": {},
   "outputs": [
    {
     "name": "stdout",
     "output_type": "stream",
     "text": [
      "https://www.dollargeneral.com/health/vitamins.html\n",
      "https://www.dollargeneral.com/health/eye-care.html\n",
      "https://www.dollargeneral.com/health/nutritional-supplements.html\n",
      "https://www.dollargeneral.com/health/foot-care.html\n",
      "https://www.dollargeneral.com/health/medicine-cabinet/cough-cold-flu.html\n",
      "https://www.dollargeneral.com/health/medicine-cabinet/first-aid.html\n",
      "https://www.dollargeneral.com/health/medicine-cabinet/pain-relief.html\n",
      "https://www.dollargeneral.com/health/medicine-cabinet/allergy-sinus-relief.html\n",
      "https://www.dollargeneral.com/health/medicine-cabinet/digestion-stomach.html\n"
     ]
    }
   ],
   "source": [
    "for i in sub_categories:\n",
    "    print i\n",
    "for i in unique_categories:\n",
    "    print i"
   ]
  },
  {
   "cell_type": "code",
   "execution_count": 31,
   "metadata": {},
   "outputs": [
    {
     "name": "stdout",
     "output_type": "stream",
     "text": [
      "completed collecting of: https://www.dollargeneral.com/on-sale.html\n",
      "completed collecting of: https://www.dollargeneral.com/seasonal.html\n",
      "completed collecting of: https://www.dollargeneral.com/holidays.html\n",
      "completed collecting of: https://www.dollargeneral.com/cleaning.html\n",
      "completed collecting of: https://www.dollargeneral.com/health.html\n",
      "completed collecting of: https://www.dollargeneral.com/personal-care.html\n",
      "completed collecting of: https://www.dollargeneral.com/beauty.html\n",
      "completed collecting of: https://www.dollargeneral.com/food.html\n",
      "completed collecting of: https://www.dollargeneral.com/household.html\n",
      "completed collecting of: https://www.dollargeneral.com/pet.html\n",
      "completed collecting of: https://www.dollargeneral.com/baby.html\n",
      "completed collecting of: https://www.dollargeneral.com/apparel.html\n",
      "completed collecting of: https://www.dollargeneral.com/toys.html\n",
      "completed collecting of: https://www.dollargeneral.com/office-school.html\n",
      "completed collecting of: https://www.dollargeneral.com/auto-hardware.html\n",
      "completed collecting of: https://www.dollargeneral.com/party-occasions.html\n",
      "completed collecting of: https://www.dollargeneral.com/private-brand.html\n"
     ]
    }
   ],
   "source": [
    "# time to get all the urls...\n",
    "\n",
    "url_list = []\n",
    "\n",
    "for main_url in category_urls:\n",
    "    browser = webdriver.PhantomJS(PHANTOMJS_PATH)\n",
    "    browser.get(main_url)\n",
    "    soup = BeautifulSoup(browser.page_source, \"html.parser\")\n",
    "    \n",
    "    sub_categories = []\n",
    "    unique_categories = []\n",
    "\n",
    "    for row in soup.find_all('ul', {\"class\": \"category column1\"}):\n",
    "        if row.find('li', {\"class\":\"sub-categories\"}) != None:\n",
    "            for item in row.find_all('li', {\"class\":\"sub-categories\"}):\n",
    "                unique_categories.append(re.search('href=\"(\\S+.html)', str(item.find_all('a'))).group(1))\n",
    "        else:\n",
    "            sub_categories.append(re.search('href=\"(\\S+.html)', str(row)).group(1))\n",
    "    \n",
    "    url_list.append(sub_categories)\n",
    "    url_list.append(unique_categories)\n",
    "    \n",
    "    print \"completed collecting of: \" + main_url"
   ]
  },
  {
   "cell_type": "code",
   "execution_count": 38,
   "metadata": {
    "scrolled": true
   },
   "outputs": [
    {
     "name": "stdout",
     "output_type": "stream",
     "text": [
      "https://www.dollargeneral.com/on-sale/week-long-savings-ends-11-18.html\n",
      "https://www.dollargeneral.com/on-sale/3-day-sale-ends-11-18.html\n",
      "https://www.dollargeneral.com/on-sale/select-cereal-3-for-6.html\n",
      "https://www.dollargeneral.com/on-sale/dawn-dish-soap-2-for-6.html\n",
      "https://www.dollargeneral.com/on-sale/save-1-instantly-on-6-of-select-ziploc-products.html\n",
      "https://www.dollargeneral.com/on-sale/save-2-on-8-off-any-colgate-palmolive-products.html\n",
      "https://www.dollargeneral.com/on-sale/save-3-on-10-on-any-robitussin-or-children-s-advil-products.html\n",
      "https://www.dollargeneral.com/on-sale/save-2-instantly-on-10-of-select-lysol-products.html\n",
      "https://www.dollargeneral.com/on-sale/save-3-instantly-on-15-select-airwick-products.html\n",
      "https://www.dollargeneral.com/on-sale/shop-these-new-online-products/pet-food-treats.html\n",
      "https://www.dollargeneral.com/on-sale/shop-these-new-online-products/food-pantry.html\n",
      "https://www.dollargeneral.com/on-sale/shop-these-new-online-products/cleaning-paper-products.html\n",
      "https://www.dollargeneral.com/on-sale/shop-these-new-online-products/beauty-personal-care.html\n",
      "https://www.dollargeneral.com/seasonal/gift-cards.html\n",
      "https://www.dollargeneral.com/seasonal/fall/tailgating.html\n",
      "https://www.dollargeneral.com/seasonal/fall/fall-apparel.html\n",
      "https://www.dollargeneral.com/seasonal/fall/health-beauty.html\n",
      "https://www.dollargeneral.com/seasonal/halloween/halloween-candy.html\n",
      "https://www.dollargeneral.com/seasonal/halloween/halloween-decorations.html\n",
      "https://www.dollargeneral.com/seasonal/halloween/halloween-costumes-accessories.html\n",
      "https://www.dollargeneral.com/seasonal/halloween/halloween-treats-party-supplies.html\n",
      "https://www.dollargeneral.com/seasonal/outdoor-living/beach-pool.html\n",
      "https://www.dollargeneral.com/seasonal/outdoor-living/outdoor-play.html\n",
      "https://www.dollargeneral.com/seasonal/outdoor-living/lawn-garden-care.html\n",
      "https://www.dollargeneral.com/seasonal/outdoor-living/pots-planters.html\n",
      "https://www.dollargeneral.com/seasonal/outdoor-living/grilling-cooking.html\n",
      "https://www.dollargeneral.com/holidays/trim-the-tree/ornaments-tree-decorations.html\n",
      "https://www.dollargeneral.com/holidays/trim-the-tree/christmas-trees.html\n",
      "https://www.dollargeneral.com/holidays/decorate-your-home/christmas-decor-candles.html\n",
      "https://www.dollargeneral.com/holidays/decorate-your-home/outdoor-christmas-decorations.html\n",
      "https://www.dollargeneral.com/holidays/decorate-your-home/holiday-lights-string-lights.html\n",
      "https://www.dollargeneral.com/holidays/decorate-your-home/treats-for-the-holiday.html\n",
      "https://www.dollargeneral.com/holidays/holiday-gifts-supplies/toys-for-the-holiday.html\n",
      "https://www.dollargeneral.com/holidays/holiday-gifts-supplies/video-games-audio-fun.html\n",
      "https://www.dollargeneral.com/holidays/holiday-gifts-supplies/gift-wrapping-supplies.html\n",
      "https://www.dollargeneral.com/holidays/holiday-gifts-supplies/christmas-cards.html\n",
      "https://www.dollargeneral.com/holidays/holiday-parties/holiday-baking.html\n",
      "https://www.dollargeneral.com/holidays/holiday-parties/holiday-party-supplies.html\n",
      "https://www.dollargeneral.com/holidays/holiday-parties/santa-hats-accessories.html\n",
      "https://www.dollargeneral.com/holidays/holiday-parties/clean-up.html\n",
      "https://www.dollargeneral.com/holidays/stocking-stuffers/holiday-candy.html\n",
      "https://www.dollargeneral.com/holidays/stocking-stuffers/treats-for-your-4-legged-friend.html\n",
      "https://www.dollargeneral.com/holidays/stocking-stuffers/for-him.html\n",
      "https://www.dollargeneral.com/holidays/stocking-stuffers/for-her.html\n",
      "https://www.dollargeneral.com/holidays/stocking-stuffers/for-girl.html\n",
      "https://www.dollargeneral.com/cleaning/laundry-cleaning.html\n",
      "https://www.dollargeneral.com/cleaning/kitchen-cleaning.html\n",
      "https://www.dollargeneral.com/cleaning/bathroom-cleaning.html\n",
      "https://www.dollargeneral.com/cleaning/floor-care.html\n",
      "https://www.dollargeneral.com/cleaning/all-purpose-cleaners.html\n",
      "https://www.dollargeneral.com/cleaning/cleaning-tools.html\n",
      "https://www.dollargeneral.com/cleaning/garbage-bags.html\n",
      "https://www.dollargeneral.com/cleaning/air-fresheners.html\n",
      "https://www.dollargeneral.com/health/vitamins.html\n",
      "https://www.dollargeneral.com/health/eye-care.html\n",
      "https://www.dollargeneral.com/health/nutritional-supplements.html\n",
      "https://www.dollargeneral.com/health/foot-care.html\n",
      "https://www.dollargeneral.com/health/medicine-cabinet/cough-cold-flu.html\n",
      "https://www.dollargeneral.com/health/medicine-cabinet/first-aid.html\n",
      "https://www.dollargeneral.com/health/medicine-cabinet/pain-relief.html\n",
      "https://www.dollargeneral.com/health/medicine-cabinet/allergy-sinus-relief.html\n",
      "https://www.dollargeneral.com/health/medicine-cabinet/digestion-stomach.html\n",
      "https://www.dollargeneral.com/personal-care/feminine-care.html\n",
      "https://www.dollargeneral.com/personal-care/adult-incontinence.html\n",
      "https://www.dollargeneral.com/personal-care/deodorants-antiperspirants.html\n",
      "https://www.dollargeneral.com/personal-care/shaving.html\n",
      "https://www.dollargeneral.com/personal-care/soap-body-wash.html\n",
      "https://www.dollargeneral.com/personal-care/sexual-wellness.html\n",
      "https://www.dollargeneral.com/personal-care/oral-care/toothpaste.html\n",
      "https://www.dollargeneral.com/personal-care/oral-care/toothbrushes.html\n",
      "https://www.dollargeneral.com/personal-care/oral-care/denture-care.html\n",
      "https://www.dollargeneral.com/personal-care/oral-care/breath-fresheners-mouthwash.html\n",
      "https://www.dollargeneral.com/personal-care/oral-care/floss-dental-accessories.html\n",
      "https://www.dollargeneral.com/beauty/hair-care/shampoo.html\n",
      "https://www.dollargeneral.com/beauty/hair-care/conditioner.html\n",
      "https://www.dollargeneral.com/beauty/hair-care/hair-color.html\n",
      "https://www.dollargeneral.com/beauty/hair-care/multicultural-hair-care.html\n",
      "https://www.dollargeneral.com/beauty/hair-care/styling-products.html\n",
      "https://www.dollargeneral.com/beauty/skin-care/facial-cleansers.html\n",
      "https://www.dollargeneral.com/beauty/skin-care/lip-care.html\n",
      "https://www.dollargeneral.com/beauty/skin-care/moisturizers.html\n",
      "https://www.dollargeneral.com/beauty/skin-care/treatments-scrubs-masks.html\n",
      "https://www.dollargeneral.com/beauty/skin-care/sunscreen.html\n",
      "https://www.dollargeneral.com/beauty/cosmetics/eye-cosmetics.html\n",
      "https://www.dollargeneral.com/beauty/cosmetics/face-cosmetics.html\n",
      "https://www.dollargeneral.com/beauty/cosmetics/cosmetics-accessories.html\n",
      "https://www.dollargeneral.com/food/coffee-tea.html\n",
      "https://www.dollargeneral.com/food/cereal-breakfast.html\n",
      "https://www.dollargeneral.com/food/snacks-cookies.html\n",
      "https://www.dollargeneral.com/food/baking-cakes-mixes.html\n",
      "https://www.dollargeneral.com/food/candy-gum.html\n",
      "https://www.dollargeneral.com/food/baby-food.html\n",
      "https://www.dollargeneral.com/food/meals-side-dishes/prepared-meals.html\n",
      "https://www.dollargeneral.com/food/meals-side-dishes/pasta-rice.html\n",
      "https://www.dollargeneral.com/food/meals-side-dishes/vegetables-beans.html\n",
      "https://www.dollargeneral.com/food/meals-side-dishes/condiments-spices.html\n",
      "https://www.dollargeneral.com/food/meals-side-dishes/soups.html\n",
      "https://www.dollargeneral.com/food/beverages/coffee-and-tea.html\n",
      "https://www.dollargeneral.com/food/beverages/soft-drinks.html\n",
      "https://www.dollargeneral.com/food/beverages/water.html\n",
      "https://www.dollargeneral.com/food/beverages/juice.html\n",
      "https://www.dollargeneral.com/food/beverages/powdered-drinks-mixes.html\n",
      "https://www.dollargeneral.com/household/storage.html\n",
      "https://www.dollargeneral.com/household/as-seen-on-tv.html\n",
      "https://www.dollargeneral.com/household/clothing-care.html\n",
      "https://www.dollargeneral.com/household/lighters.html\n",
      "https://www.dollargeneral.com/household/paper-plastic/paper-towels-napkins.html\n",
      "https://www.dollargeneral.com/household/paper-plastic/bath-facial-tissue.html\n",
      "https://www.dollargeneral.com/household/paper-plastic/paper-plastic-tableware.html\n",
      "https://www.dollargeneral.com/household/paper-plastic/food-storage.html\n",
      "https://www.dollargeneral.com/household/kitchen-dining/kitchen-appliances.html\n",
      "https://www.dollargeneral.com/household/kitchen-dining/cookware.html\n",
      "https://www.dollargeneral.com/household/kitchen-dining/kitchen-essentials-tools.html\n",
      "https://www.dollargeneral.com/household/kitchen-dining/catering-serveware-party.html\n",
      "https://www.dollargeneral.com/household/home-decor-curtains/picture-frames.html\n",
      "https://www.dollargeneral.com/household/home-decor-curtains/curtains.html\n",
      "https://www.dollargeneral.com/household/home-decor-curtains/candles-candleholders.html\n",
      "https://www.dollargeneral.com/household/home-decor-curtains/clocks.html\n",
      "https://www.dollargeneral.com/household/home-decor-curtains/lamps-and-lampshades.html\n",
      "https://www.dollargeneral.com/household/bed-bath/bedding.html\n",
      "https://www.dollargeneral.com/household/bed-bath/bath-towels.html\n",
      "https://www.dollargeneral.com/household/bed-bath/bath-accessories.html\n",
      "https://www.dollargeneral.com/household/batteries-electronics/batteries.html\n",
      "https://www.dollargeneral.com/household/batteries-electronics/electronics.html\n",
      "https://www.dollargeneral.com/household/batteries-electronics/phones-accessories.html\n",
      "https://www.dollargeneral.com/pet/dog-food.html\n",
      "https://www.dollargeneral.com/pet/dog-treats.html\n",
      "https://www.dollargeneral.com/pet/dog-accessories-cleaning.html\n",
      "https://www.dollargeneral.com/pet/cat-food.html\n",
      "https://www.dollargeneral.com/pet/cat-treats.html\n",
      "https://www.dollargeneral.com/pet/cat-litter.html\n",
      "https://www.dollargeneral.com/pet/cat-accessories.html\n",
      "https://www.dollargeneral.com/baby/diapers-wipes.html\n",
      "https://www.dollargeneral.com/baby/baby-apparel-accessories.html\n",
      "https://www.dollargeneral.com/baby/health-safety.html\n",
      "https://www.dollargeneral.com/baby/baby-bath-skincare.html\n",
      "https://www.dollargeneral.com/baby/baby-food-formula.html\n",
      "https://www.dollargeneral.com/apparel/infants-toddlers.html\n",
      "https://www.dollargeneral.com/apparel/rain-gear.html\n",
      "https://www.dollargeneral.com/apparel/slippers-shoes.html\n",
      "https://www.dollargeneral.com/apparel/shoe-care.html\n",
      "https://www.dollargeneral.com/apparel/socks-for-the-family.html\n",
      "https://www.dollargeneral.com/apparel/womens-apparel/end-of-season-apparel-clearance.html\n",
      "https://www.dollargeneral.com/apparel/womens-apparel/dresses.html\n",
      "https://www.dollargeneral.com/apparel/womens-apparel/womens-tops.html\n",
      "https://www.dollargeneral.com/apparel/womens-apparel/womens-bottoms.html\n",
      "https://www.dollargeneral.com/apparel/womens-apparel/women-s-activewear.html\n",
      "https://www.dollargeneral.com/apparel/mens-apparel/mens-tops.html\n",
      "https://www.dollargeneral.com/apparel/mens-apparel/caps.html\n",
      "https://www.dollargeneral.com/apparel/mens-apparel/mens-underwear.html\n",
      "https://www.dollargeneral.com/apparel/mens-apparel/mens-socks.html\n",
      "https://www.dollargeneral.com/apparel/mens-apparel/mens-accessories.html\n",
      "https://www.dollargeneral.com/apparel/girls-apparel/girls-tops.html\n",
      "https://www.dollargeneral.com/apparel/girls-apparel/girls-underwear.html\n",
      "https://www.dollargeneral.com/apparel/girls-apparel/girls-socks.html\n",
      "https://www.dollargeneral.com/apparel/boys-apparel/boys-underwear.html\n",
      "https://www.dollargeneral.com/apparel/boys-apparel/boys-socks.html\n",
      "https://www.dollargeneral.com/apparel/boys-apparel/boys-undershirts.html\n",
      "https://www.dollargeneral.com/toys/shop-all-toys.html\n",
      "https://www.dollargeneral.com/toys/video-games-electronics.html\n",
      "https://www.dollargeneral.com/toys/active-and-outdoor-play.html\n",
      "https://www.dollargeneral.com/toys/dolls-stuffed-animals.html\n",
      "https://www.dollargeneral.com/toys/learning-pretend.html\n",
      "https://www.dollargeneral.com/toys/baby-preschool-toys.html\n",
      "https://www.dollargeneral.com/toys/puzzles-games-books.html\n",
      "https://www.dollargeneral.com/toys/vehicles-trains-remote-control.html\n",
      "https://www.dollargeneral.com/office-school/pens-pencils.html\n",
      "https://www.dollargeneral.com/office-school/coloring-supplies.html\n",
      "https://www.dollargeneral.com/office-school/paper-notebooks.html\n",
      "https://www.dollargeneral.com/office-school/tape-glue-adhesives.html\n",
      "https://www.dollargeneral.com/office-school/desk-supplies.html\n",
      "https://www.dollargeneral.com/office-school/envelopes-labels.html\n",
      "https://www.dollargeneral.com/office-school/arts-crafts.html\n",
      "https://www.dollargeneral.com/auto-hardware/auto-cleaning.html\n",
      "https://www.dollargeneral.com/auto-hardware/tools.html\n",
      "https://www.dollargeneral.com/auto-hardware/home-improvement-supplies.html\n",
      "https://www.dollargeneral.com/auto-hardware/electrical-lighting.html\n",
      "https://www.dollargeneral.com/party-occasions/balloons.html\n",
      "https://www.dollargeneral.com/party-occasions/cake-cupcake-supplies.html\n",
      "https://www.dollargeneral.com/party-occasions/decorations.html\n",
      "https://www.dollargeneral.com/party-occasions/favors.html\n",
      "https://www.dollargeneral.com/party-occasions/gift-packaging.html\n",
      "https://www.dollargeneral.com/party-occasions/party-accessories.html\n",
      "https://www.dollargeneral.com/party-occasions/pinatas.html\n",
      "https://www.dollargeneral.com/party-occasions/tableware.html\n",
      "https://www.dollargeneral.com/private-brand/clover-valley.html\n",
      "https://www.dollargeneral.com/private-brand/dg-body.html\n",
      "https://www.dollargeneral.com/private-brand/dg-health.html\n",
      "https://www.dollargeneral.com/private-brand/dg-home.html\n",
      "https://www.dollargeneral.com/private-brand/dg-baby.html\n",
      "https://www.dollargeneral.com/private-brand/sweet-smiles.html\n",
      "https://www.dollargeneral.com/private-brand/everpet.html\n",
      "https://www.dollargeneral.com/private-brand/other-dg-brands.html\n"
     ]
    }
   ],
   "source": [
    "dollarGeneralUrls = []\n",
    "\n",
    "for lists in url_list:\n",
    "    for url in lists:\n",
    "        dollarGeneralUrls.append(url)\n",
    "\n",
    "for i in dollarGeneralUrls:\n",
    "    print i"
   ]
  },
  {
   "cell_type": "code",
   "execution_count": 39,
   "metadata": {
    "collapsed": true
   },
   "outputs": [],
   "source": [
    "df = pd.DataFrame(dollarGeneralUrls, columns=[\"urls\"])\n",
    "df.to_csv('dollarGeneralUrls.csv', index=False)"
   ]
  }
 ],
 "metadata": {
  "kernelspec": {
   "display_name": "Python 2",
   "language": "python",
   "name": "python2"
  },
  "language_info": {
   "codemirror_mode": {
    "name": "ipython",
    "version": 2
   },
   "file_extension": ".py",
   "mimetype": "text/x-python",
   "name": "python",
   "nbconvert_exporter": "python",
   "pygments_lexer": "ipython2",
   "version": "2.7.13"
  }
 },
 "nbformat": 4,
 "nbformat_minor": 2
}
